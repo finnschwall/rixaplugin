{
 "cells": [
  {
   "cell_type": "markdown",
   "source": [
    "This notebook demonstrates how to set up a plugin as remote.\n",
    "Usually you would start the plugin via `rixaplugins start_plugin` and configure everything in the config file.\n",
    "But this demonstrates what happens and what you should take care of in the config file."
   ],
   "metadata": {
    "collapsed": false
   }
  },
  {
   "cell_type": "code",
   "execution_count": null,
   "outputs": [],
   "source": [
    "from rixaplugin import init_plugin_system, PluginModeFlags as PMF, create_and_start_plugin_client\n",
    "import data_async\n",
    "\n",
    "await init_plugin_system(PMF.CLIENT | PMF.THREAD, debug = True)"
   ],
   "metadata": {
    "collapsed": false,
    "pycharm": {
     "is_executing": true
    }
   }
  },
  {
   "cell_type": "code",
   "execution_count": 2,
   "outputs": [
    {
     "name": "stderr",
     "output_type": "stream",
     "text": [
      "\u001B[38;2;51;204;204mDEBUG:net \"Connection established\" (File \"networking.py\", line 265)\u001B[0m\n"
     ]
    },
    {
     "data": {
      "text/plain": "(tcp://localhost:5000,\n <Task pending name='Task-7' coro=<NetworkAdapter.listen() running at /home/finn/Fraunhofer/LLM/rixaplugin/rixaplugin/networking.py:128> created at /home/finn/.pyenv/versions/3.10.11/lib/python3.10/asyncio/tasks.py:337>)"
     },
     "execution_count": 2,
     "metadata": {},
     "output_type": "execute_result"
    }
   ],
   "source": [
    "await create_and_start_plugin_client(\"localhost\", 5000, )\n"
   ],
   "metadata": {
    "collapsed": false
   }
  },
  {
   "cell_type": "code",
   "execution_count": 3,
   "outputs": [
    {
     "data": {
      "text/plain": "[{'name': 'mean',\n  'description': 'Return mean of all columns or a specific part via query',\n  'args': [],\n  'kwargs': [{'name': 'query',\n    'default': None,\n    'description': 'a pandas query string'}],\n  'has_var_positional': False,\n  'has_var_keyword': False,\n  'type': LOCAL,\n  'pointer': <function data_async.mean(query: str = None)>,\n  'coroutine': False},\n {'name': 'minmax',\n  'description': 'Return min and max of a column',\n  'args': [{'name': 'column', 'description': 'Name of the column'}],\n  'kwargs': [{'name': 'query',\n    'default': None,\n    'description': 'a pandas query string'}],\n  'has_var_positional': False,\n  'has_var_keyword': False,\n  'type': LOCAL,\n  'pointer': <function data_async.minmax(column: str, query: str = None) -> Tuple[float, float]>,\n  'coroutine': False},\n {'name': 'hist',\n  'description': 'Compute histogram of a column',\n  'args': [{'name': 'column', 'description': 'Name of the column'}],\n  'kwargs': [{'name': 'bins', 'default': 10, 'type': 'int'},\n   {'name': 'query', 'default': None, 'description': 'a pandas query string'}],\n  'has_var_positional': False,\n  'has_var_keyword': False,\n  'type': LOCAL,\n  'pointer': <function data_async.hist(column: str, bins: int = 10, query: str = None) -> Tuple[plotly.graph_objs._figure.Figure, list, list]>,\n  'coroutine': False},\n {'name': 'scatter_plot',\n  'description': 'Generate a scatter plot between two columns',\n  'args': [{'name': 'x', 'description': 'Name of the column for x-axis'},\n   {'name': 'y', 'description': 'Name of the column for y-axis'}],\n  'kwargs': [{'name': 'query',\n    'default': None,\n    'description': 'a pandas query string'},\n   {'name': 'color',\n    'default': None,\n    'description': 'Column name to color code data points'}],\n  'has_var_positional': False,\n  'has_var_keyword': False,\n  'type': LOCAL,\n  'pointer': <function data_async.scatter_plot(x: str, y: str, query: str = None, color: str = None) -> plotly.graph_objs._figure.Figure>,\n  'coroutine': False},\n {'name': 'unique_values',\n  'description': 'Return unique values in a column',\n  'args': [{'name': 'column', 'description': 'Name of the column'}],\n  'kwargs': [{'name': 'query',\n    'default': None,\n    'description': 'a pandas query string'}],\n  'has_var_positional': False,\n  'has_var_keyword': False,\n  'type': LOCAL,\n  'pointer': <function data_async.unique_values(column: str, query: str = None) -> pandas.core.series.Series>,\n  'coroutine': False},\n {'name': 'summary_statistics',\n  'description': 'Return summary statistics (count, mean, std, min, 25%, 50%, 75%, max) for all columns or filtered by a query',\n  'args': [],\n  'kwargs': [{'name': 'query',\n    'default': None,\n    'description': 'a pandas query string'}],\n  'has_var_positional': False,\n  'has_var_keyword': False,\n  'type': LOCAL,\n  'pointer': <function data_async.summary_statistics(query: str = None) -> pandas.core.frame.DataFrame>,\n  'coroutine': False},\n {'name': 'correlation_matrix',\n  'description': 'Compute and visualize correlation matrix of the DataFrame columns',\n  'args': [],\n  'kwargs': [{'name': 'query',\n    'default': None,\n    'description': 'a pandas query string to filter data'}],\n  'has_var_positional': False,\n  'has_var_keyword': False,\n  'type': LOCAL,\n  'pointer': <function data_async.correlation_matrix(query: str = None) -> plotly.graph_objs._figure.Figure>,\n  'coroutine': False}]"
     },
     "execution_count": 3,
     "metadata": {},
     "output_type": "execute_result"
    }
   ],
   "source": [
    "from rixaplugin.memory import _memory\n",
    "_memory.function_list"
   ],
   "metadata": {
    "collapsed": false
   }
  },
  {
   "cell_type": "code",
   "execution_count": 3,
   "outputs": [],
   "source": [
    "from rixaplugin import available_functions"
   ],
   "metadata": {
    "collapsed": false
   }
  },
  {
   "cell_type": "code",
   "execution_count": 4,
   "outputs": [
    {
     "name": "stdout",
     "output_type": "stream",
     "text": [
      "PluginMemory containing:\n",
      "def mean(, query=None):\n",
      "    \"\"\"Return mean of all columns or a specific part via query\"\"\"\n",
      "def minmax(column, query=None):\n",
      "    \"\"\"Return min and max of a column\"\"\"\n",
      "def hist(column, bins=10: int, query=None):\n",
      "    \"\"\"Compute histogram of a column\"\"\"\n",
      "def scatter_plot(x, y, query=None, color=None):\n",
      "    \"\"\"Generate a scatter plot between two columns\"\"\"\n",
      "def unique_values(column, query=None):\n",
      "    \"\"\"Return unique values in a column\"\"\"\n",
      "def summary_statistics(, query=None):\n",
      "    \"\"\"Return summary statistics (count, mean, std, min, 25%, 50%, 75%, max) for all columns or filtered by a query\"\"\"\n",
      "def correlation_matrix(, query=None):\n",
      "    \"\"\"Compute and visualize correlation matrix of the DataFrame columns\"\"\"\n"
     ]
    }
   ],
   "source": [
    "print(available_functions())"
   ],
   "metadata": {
    "collapsed": false
   }
  },
  {
   "cell_type": "code",
   "execution_count": 3,
   "outputs": [
    {
     "name": "stderr",
     "output_type": "stream",
     "text": [
      "\u001B[38;2;51;204;204mDEBUG:net \"Connection established\" (File \"networking.py\", line 168)\u001B[0m\n"
     ]
    },
    {
     "data": {
      "text/plain": "(<rixaplugin.networking.PluginClient at 0x7f4729577550>,\n <Task pending name='Task-7' coro=<PluginClient._response_listener() running at /home/finn/Fraunhofer/LLM/rixaplugin/rixaplugin/networking.py:260> created at /home/finn/.pyenv/versions/3.10.11/lib/python3.10/asyncio/tasks.py:337>)"
     },
     "execution_count": 3,
     "metadata": {},
     "output_type": "execute_result"
    }
   ],
   "source": [],
   "metadata": {
    "collapsed": false
   }
  },
  {
   "cell_type": "code",
   "execution_count": null,
   "outputs": [],
   "source": [],
   "metadata": {
    "collapsed": false
   }
  }
 ],
 "metadata": {
  "kernelspec": {
   "name": "cuda_ml",
   "language": "python",
   "display_name": "cuda_ml"
  },
  "language_info": {
   "codemirror_mode": {
    "name": "ipython",
    "version": 2
   },
   "file_extension": ".py",
   "mimetype": "text/x-python",
   "name": "python",
   "nbconvert_exporter": "python",
   "pygments_lexer": "ipython2",
   "version": "2.7.6"
  }
 },
 "nbformat": 4,
 "nbformat_minor": 0
}
