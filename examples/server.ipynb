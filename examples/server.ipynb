{
 "cells": [
  {
   "cell_type": "markdown",
   "source": [
    "This notebook demonstrates how the plugin server works as central component. It's just a demo, as you would usually integrate the server somewhere.\n",
    "Technically all networked plugins are servers. The server here refers to the central network hub and is also usually the only element reachable from the outside."
   ],
   "metadata": {
    "collapsed": false
   }
  },
  {
   "cell_type": "code",
   "execution_count": 1,
   "outputs": [
    {
     "name": "stderr",
     "output_type": "stream",
     "text": [
      "\u001B[38;2;204;204;0mWARNING:net \"Allowing any connection to the server. Disable for production!\" (File \"networking.py\", line 32)\u001B[0m\n",
      "\u001B[38;2;51;204;204mDEBUG:net \"Starting server\" (File \"networking.py\", line 54)\u001B[0m\n",
      "\u001B[38;2;51;204;204mDEBUG:net \"Server started at tcp://*:5000\" (File \"networking.py\", line 62)\u001B[0m\n"
     ]
    },
    {
     "name": "stdout",
     "output_type": "stream",
     "text": [
      "A\n"
     ]
    }
   ],
   "source": [
    "from rixaplugin import init_plugin_system, PluginModeFlags as PMF, create_and_start_plugin_server\n",
    "\n",
    "await init_plugin_system(PMF.SERVER | PMF.JUPYTER | PMF.LOCAL ,debug=True)\n",
    "# This tells the plugin system to init with jupyter support, as a server and as a server that runs locally. Also debug is enabled.\n",
    "\n",
    "_ = await create_and_start_plugin_server(port=5000, allow_any_connection=True)\n",
    "# Without any arguments the plugin system will look in configs (files, env, etc) for args. Recommened for production.\n",
    "# Usually you would define a public key, accepted domains, etc in the config.\n",
    "\n",
    "# Note the await. Plugins can be written in sync code, both for backwards and general compatibility as well as allowing integration of all sorts of code.\n",
    "# The server itself can't be run without asyncio.\n",
    "\n",
    "# When you reached this, the server is already running. Should a plugin connect, you should see a log message below."
   ],
   "metadata": {
    "collapsed": false
   }
  },
  {
   "cell_type": "code",
   "execution_count": null,
   "outputs": [],
   "source": [
    "print(_[1])"
   ],
   "metadata": {
    "collapsed": false
   }
  },
  {
   "cell_type": "code",
   "execution_count": 2,
   "outputs": [
    {
     "name": "stdout",
     "output_type": "stream",
     "text": [
      "PluginMemory containing:\n",
      "\n"
     ]
    }
   ],
   "source": [
    "from rixaplugin import available_functions\n",
    "print(available_functions())"
   ],
   "metadata": {
    "collapsed": false
   }
  },
  {
   "cell_type": "code",
   "execution_count": null,
   "outputs": [],
   "source": [
    "# Now I assume the exemplary data exploration plugin has connected.\n",
    "from rixaplugin import execute_function\n",
    "# We can use the above to execute a function remotely\n",
    "result = await execute_function(\"data\", \"summary_statistics\")\n",
    "# we now called the function summary_statistics in the data plugin with no arguments.\n",
    "# Note that this can raise many errors e.g. when the function is missspelled, the plugin is not connected, etc."
   ],
   "metadata": {
    "collapsed": false
   }
  },
  {
   "cell_type": "code",
   "execution_count": null,
   "outputs": [],
   "source": [
    "# For ease of use you can \"import\" the remote. Note that this is mostly equivalent to the above.\n"
   ],
   "metadata": {
    "collapsed": false
   }
  }
 ],
 "metadata": {
  "kernelspec": {
   "name": "cuda_ml",
   "language": "python",
   "display_name": "cuda_ml"
  },
  "language_info": {
   "codemirror_mode": {
    "name": "ipython",
    "version": 2
   },
   "file_extension": ".py",
   "mimetype": "text/x-python",
   "name": "python",
   "nbconvert_exporter": "python",
   "pygments_lexer": "ipython2",
   "version": "2.7.6"
  }
 },
 "nbformat": 4,
 "nbformat_minor": 0
}
